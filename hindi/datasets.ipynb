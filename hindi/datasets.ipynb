{
 "cells": [
  {
   "cell_type": "code",
   "execution_count": 1,
   "id": "ccf2fe68-dd35-46d6-a69c-44f3bf3d5130",
   "metadata": {},
   "outputs": [],
   "source": [
    "import warnings\n",
    "\n",
    "warnings.simplefilter(\"ignore\")\n",
    "\n",
    "from typing import Callable, Optional\n",
    "\n",
    "from torchvision import transforms\n",
    "\n",
    "import torchvision.datasets as datasets\n",
    "\n",
    "import urllib.request\n",
    "\n",
    "import tarfile\n",
    "\n",
    "import os"
   ]
  },
  {
   "cell_type": "code",
   "execution_count": 2,
   "id": "54e71714-f7bf-4827-9671-3f1e87416408",
   "metadata": {},
   "outputs": [],
   "source": [
    "def Digits( root, train: bool =True, transform: Optional[Callable] = None, target_transform: Optional[Callable] = None, download: bool = False ):\n",
    "    parent_folder = os.path.join( root, 'devanagari' )\n",
    "    \n",
    "    data_folder = os.path.join( parent_folder, 'train' ) if train else os.path.join( parent_folder, 'test' )\n",
    "    \n",
    "    if download:\n",
    "        if not os.path.exists( data_folder ):\n",
    "            os.makedirs( parent_folder )\n",
    "\n",
    "            imgs_tar_url = 'https://github.com/kbmurali/hindi_hw_deep_gan/blob/main/hindi_hw_digits.tar.gz?raw=true'\n",
    "    \n",
    "            tar_file =  os.path.join( parent_folder, 'hindi_hw_digits.tar.gz' )\n",
    "    \n",
    "            urllib.request.urlretrieve( imgs_tar_url, tar_file )\n",
    "    \n",
    "            tar = tarfile.open( tar_file )\n",
    "            \n",
    "            # Extract all files to the current directory\n",
    "            tar.extractall( parent_folder )\n",
    "            \n",
    "            # Close the tar file\n",
    "            tar.close()\n",
    "    \n",
    "            #Delete the tar file\n",
    "            if os.path.isfile( tar_file ):\n",
    "                os.remove( tar_file )\n",
    "\n",
    "    return datasets.ImageFolder( data_folder, transform=transform, target_transform=target_transform )"
   ]
  }
 ],
 "metadata": {
  "kernelspec": {
   "display_name": "Python 3 (ipykernel)",
   "language": "python",
   "name": "python3"
  },
  "language_info": {
   "codemirror_mode": {
    "name": "ipython",
    "version": 3
   },
   "file_extension": ".py",
   "mimetype": "text/x-python",
   "name": "python",
   "nbconvert_exporter": "python",
   "pygments_lexer": "ipython3",
   "version": "3.8.10"
  }
 },
 "nbformat": 4,
 "nbformat_minor": 5
}
